{
 "cells": [
  {
   "cell_type": "markdown",
   "metadata": {},
   "source": [
    "<img src=\"./images/descarga.png\">\n",
    "\n",
    "# 1. Medicamentos\n",
    "\n",
    "### Trabajo para el modulo \"Programacion en Python\"\n",
    "\n",
    "En primer lugar crearemos un objeto llamado Medicamento que almacenara la informacion relevante para nuestro trabajo. En nuestro caso sera el nombre, laboratorio, principios activos, problemas de comercializacion, si necesita prescripcion medica, si afecta a la conduccion, si tiene problemas de suministro y el numero de unidades disponibles en nuestra farmacia. "
   ]
  },
  {
   "cell_type": "code",
   "execution_count": 4,
   "metadata": {},
   "outputs": [],
   "source": [
    "class Medicamento(object):\n",
    "    \"\"\" Clase Medicamento. Representa un Medicamento.\n",
    "    Atributos\n",
    "    ---------\n",
    "    nombre = string\n",
    "    laboratorio = string\n",
    "    principios = string\n",
    "    comercializado = boolean\n",
    "    observaciones = boolean\n",
    "    conduccion = boolean\n",
    "    suministro = int\n",
    "    \n",
    "    \"\"\"\n",
    "    def __init__(self, nombre_med, lab_med, p_act, comer, obs, afect_cond, prob_sum, exist):\n",
    "        self.nombre = nombre_med\n",
    "        self.laboratorio = lab_med \n",
    "        self.principios = p_act \n",
    "        self.comercializado = comer \n",
    "        self.observaciones = obs\n",
    "        self.conduccion = afect_cond\n",
    "        self.suministro = prob_sum\n",
    "        self.existencias = exist\n",
    "    def __str__(self):\n",
    "        datos = \"Nombre: \" + self.nombre + \"\\nLaboratorio: \" + self.laboratorio + \"\\nPrincipios Activos: \" + self.principios + \"\\nComercializado: \" + str(self.comercializado) + \"\\nPrescripcion: \" + str(self.observaciones) + \"\\nAfecta a conduccion: \" + str(self.conduccion) + \"\\nProblemas de suministro: \" + str(self.suministro) + \"\\nStock: \" + str(self.existencias)\n",
    "        return datos\n",
    " "
   ]
  },
  {
   "cell_type": "markdown",
   "metadata": {},
   "source": [
    "Creamos un objeto determinado, en este caso de la famosa aspirina. Esto nos permitira comprobar el buen funcionamiento de\n",
    "nuestro objeto."
   ]
  },
  {
   "cell_type": "code",
   "execution_count": 209,
   "metadata": {},
   "outputs": [],
   "source": [
    "med1 = Medicamento(\"Aspirina\", \"Bayer\", \"Ácido Acetilsalicílico\", True, False, False, False, 0)"
   ]
  },
  {
   "cell_type": "markdown",
   "metadata": {},
   "source": [
    "Comprobamos que podemos acceder a un dato determinado de nuestro objeto:"
   ]
  },
  {
   "cell_type": "code",
   "execution_count": 210,
   "metadata": {},
   "outputs": [
    {
     "name": "stdout",
     "output_type": "stream",
     "text": [
      "False\n"
     ]
    }
   ],
   "source": [
    "print(med1.suministro)"
   ]
  },
  {
   "cell_type": "markdown",
   "metadata": {},
   "source": [
    "Comprobamos que podemos acceder a todos los datos del medicamento gracias a la definicion del metodo especial __str__:"
   ]
  },
  {
   "cell_type": "code",
   "execution_count": 211,
   "metadata": {},
   "outputs": [
    {
     "name": "stdout",
     "output_type": "stream",
     "text": [
      "Nombre: Aspirina\n",
      "Laboratorio: Bayer\n",
      "Principios Activos: Ácido Acetilsalicílico\n",
      "Comercializado: True\n",
      "Prescripcion: False\n",
      "Afecta a conduccion: False\n",
      "Problemas de suministro: False\n",
      "Stock: 0\n"
     ]
    }
   ],
   "source": [
    "print(med1)"
   ]
  },
  {
   "cell_type": "markdown",
   "metadata": {},
   "source": [
    "# 2. Inventario: Carga y creacion\n",
    "Ahora vamos a diseñar un programa para la carga de un archivo .odt (OpenDocument) externo y su lectura. Se ha elegido el formato .odt debido a que es el estandar de openoffice y creo que hay que estandarizar mas el software libre.  Comenzaremos con un archivo de prueba de solo 3 medicamentos y asi poder hacer pruebas antes de cargar el archivo completo."
   ]
  },
  {
   "cell_type": "code",
   "execution_count": 392,
   "metadata": {},
   "outputs": [
    {
     "name": "stdout",
     "output_type": "stream",
     "text": [
      "{'40537': {'SI', 'H.A.C. Pharma', 'NO', 'INACID 25 mg CAPSULAS DURAS', 'INDOMETACINA', 'Medicamento Sujeto A Prescripción Médica'}, '7235': {'SI', 'NO', 'PASSIFLORINE SOLUCION ORAL', 'Chiesi España, S.A.', 'Sin Receta', 'PASSIFLORA INCARNATA EXTO, SALIX ALBA EXTO, CRATAEGUS OXYACANTHA TINTURA'}, '18329': {'TIOPENTAL SODICO', 'SI', 'NO', 'B. Braun Medical, S.A.', 'Uso Hospitalario', 'TIOBARBITAL BRAUN 1 G'}, 52412: {'TIOPENTAL SODICO', 'SI', 'NO', 'B. Braun Medical, S.A.', 'Uso Hospitalario', 'TIOBARBITAL BRAUN 1 G'}, 42547: {'TIOPENTAL SODICO', 'SI', 'NO', 'B. Braun Medical, S.A.', 'Uso Hospitalario', 'TIOBARBITAL BRAUN 1 G'}}\n"
     ]
    }
   ],
   "source": [
    "from pyexcel_ods import get_data\n",
    "\n",
    "data = get_data(\"prueba.ods\")\n",
    "f = data['Hoja1']\n",
    "\n",
    "lista_original = {}\n",
    "for i in range(1,len(f)):\n",
    "    lista_original[f[i][0]] = {f[i][1], f[i][2], f[i][7], f[i][9], f[i][11], f[i][13], f[i][14]}\n",
    "print(lista_original)\n"
   ]
  },
  {
   "cell_type": "code",
   "execution_count": 1,
   "metadata": {},
   "outputs": [
    {
     "name": "stdout",
     "output_type": "stream",
     "text": [
      "{'40537': ['INACID 25 mg CAPSULAS DURAS', 'H.A.C. Pharma', 'INDOMETACINA', 'SI', 'Medicamento Sujeto A Prescripción Médica', 'NO', 'NO'], '7235': ['PASSIFLORINE SOLUCION ORAL', 'Chiesi España, S.A.', 'PASSIFLORA INCARNATA EXTO, SALIX ALBA EXTO, CRATAEGUS OXYACANTHA TINTURA', 'NO', 'Sin Receta', 'SI', 'NO'], '18329': ['TIOBARBITAL BRAUN 1 G', 'B. Braun Medical, S.A.', 'TIOPENTAL SODICO', 'SI', 'Uso Hospitalario', 'SI', 'NO'], 52412: ['TIOBARBITAL BRAUN 1 G', 'B. Braun Medical, S.A.', 'TIOPENTAL SODICO', 'SI', 'Uso Hospitalario', 'SI', 'NO'], 42547: ['TIOBARBITAL BRAUN 1 G', 'B. Braun Medical, S.A.', 'TIOPENTAL SODICO', 'SI', 'Uso Hospitalario', 'SI', 'NO']}\n",
      " \n",
      "{'40537': ['INACID 25 mg CAPSULAS DURAS', 'H.A.C. Pharma', 'INDOMETACINA', 'SI', 'Medicamento Sujeto A Prescripción Médica', 'NO', 'NO'], '7235': ['PASSIFLORINE SOLUCION ORAL', 'Chiesi España, S.A.', 'PASSIFLORA INCARNATA EXTO, SALIX ALBA EXTO, CRATAEGUS OXYACANTHA TINTURA', 'NO', 'Sin Receta', 'SI', 'NO'], '18329': ['TIOBARBITAL BRAUN 1 G', 'B. Braun Medical, S.A.', 'TIOPENTAL SODICO', 'SI', 'Uso Hospitalario', 'SI', 'NO']}\n",
      " \n",
      "dict_keys(['40537', '7235', '18329'])\n",
      " \n",
      "[['INACID 25 mg CAPSULAS DURAS', 'H.A.C. Pharma', 'INDOMETACINA', 'SI', 'Medicamento Sujeto A Prescripción Médica', 'NO', 'NO'], ['PASSIFLORINE SOLUCION ORAL', 'Chiesi España, S.A.', 'PASSIFLORA INCARNATA EXTO, SALIX ALBA EXTO, CRATAEGUS OXYACANTHA TINTURA', 'NO', 'Sin Receta', 'SI', 'NO'], ['TIOBARBITAL BRAUN 1 G', 'B. Braun Medical, S.A.', 'TIOPENTAL SODICO', 'SI', 'Uso Hospitalario', 'SI', 'NO']]\n",
      " \n",
      "dict_keys(['40537', '7235', '18329'])\n",
      " \n",
      "Nombre: INACID 25 mg CAPSULAS DURAS\n",
      "Laboratorio: H.A.C. Pharma\n",
      "Principios Activos: INDOMETACINA\n",
      "Comercializado: SI\n",
      "Prescripcion: Medicamento Sujeto A Prescripción Médica\n",
      "Afecta a conduccion: NO\n",
      "Problemas de suministro: NO\n",
      "Stock: 2\n",
      " \n",
      "Nombre: PASSIFLORINE SOLUCION ORAL\n",
      "Laboratorio: Chiesi España, S.A.\n",
      "Principios Activos: PASSIFLORA INCARNATA EXTO, SALIX ALBA EXTO, CRATAEGUS OXYACANTHA TINTURA\n",
      "Comercializado: NO\n",
      "Prescripcion: Sin Receta\n",
      "Afecta a conduccion: SI\n",
      "Problemas de suministro: NO\n",
      "Stock: 2\n",
      " \n",
      "Nombre: TIOBARBITAL BRAUN 1 G\n",
      "Laboratorio: B. Braun Medical, S.A.\n",
      "Principios Activos: TIOPENTAL SODICO\n",
      "Comercializado: SI\n",
      "Prescripcion: Uso Hospitalario\n",
      "Afecta a conduccion: SI\n",
      "Problemas de suministro: NO\n",
      "Stock: 2\n"
     ]
    }
   ],
   "source": [
    "class Medicamento(object):\n",
    "    \"\"\" Clase Medicamento. Representa un Medicamento.\n",
    "    Atributos\n",
    "    ---------\n",
    "    nombre = string\n",
    "    laboratorio = string\n",
    "    principios = string\n",
    "    comercializado = boolean\n",
    "    observaciones = boolean\n",
    "    conduccion = boolean\n",
    "    suministro = int\n",
    "    \n",
    "    \"\"\"\n",
    "    def __init__(self, nombre_med, lab_med, p_act, comer, obs, afect_cond, prob_sum):\n",
    "        self.nombre = nombre_med\n",
    "        self.laboratorio = lab_med \n",
    "        self.principios = p_act \n",
    "        self.comercializado = comer \n",
    "        self.observaciones = obs\n",
    "        self.conduccion = afect_cond\n",
    "        self.suministro = prob_sum\n",
    "        self.stock = 2\n",
    "    def __str__(self):\n",
    "        datos = \"Nombre: \" + self.nombre + \"\\nLaboratorio: \" + self.laboratorio + \"\\nPrincipios Activos: \" + self.principios + \"\\nComercializado: \" + str(self.comercializado) + \"\\nPrescripcion: \" + str(self.observaciones) + \"\\nAfecta a conduccion: \" + str(self.conduccion) + \"\\nProblemas de suministro: \" + str(self.suministro) + \"\\nStock: \" + str(self.stock)\n",
    "        return datos\n",
    "\n",
    "from pyexcel_ods import get_data\n",
    "\n",
    "data = get_data(\"prueba.ods\")\n",
    "f = data['Hoja1']\n",
    "\n",
    "lista_original = {}\n",
    "for i in range(1,len(f)):\n",
    "    lista_original[f[i][0]] = [f[i][1], f[i][2], f[i][7], f[i][9], f[i][11], f[i][13], f[i][14]]\n",
    "print(lista_original)\n",
    "print(\" \")   \n",
    "\n",
    "lista_limpia = {}\n",
    "for key,value in lista_original.items():\n",
    "    if value not in lista_limpia.values():\n",
    "        lista_limpia[key] = value\n",
    "print(lista_limpia)\n",
    "print(\" \")\n",
    "\n",
    "print(lista_limpia.keys())\n",
    "print(\" \")\n",
    "\n",
    "medicamentos = {}\n",
    "lf = list(lista_limpia.values())\n",
    "key = list(lista_limpia.keys())\n",
    "print(lf)\n",
    "print(\" \")\n",
    "\n",
    "for j in range(0,len(lf)):\n",
    "    medicamentos[key[j]] = Medicamento(lf[j][0], lf[j][1], lf[j][2], lf[j][3], lf[j][4], lf[j][5], lf[j][6])                        \n",
    "\n",
    "print(medicamentos.keys())\n",
    "print(\" \")\n",
    "print(medicamentos[\"40537\"])\n",
    "print(\" \")\n",
    "print(medicamentos[\"7235\"])\n",
    "print(\" \")\n",
    "print(medicamentos[\"18329\"])"
   ]
  },
  {
   "cell_type": "code",
   "execution_count": null,
   "metadata": {},
   "outputs": [],
   "source": []
  }
 ],
 "metadata": {
  "kernelspec": {
   "display_name": "Python 3",
   "language": "python",
   "name": "python3"
  },
  "language_info": {
   "codemirror_mode": {
    "name": "ipython",
    "version": 3
   },
   "file_extension": ".py",
   "mimetype": "text/x-python",
   "name": "python",
   "nbconvert_exporter": "python",
   "pygments_lexer": "ipython3",
   "version": "3.7.6"
  }
 },
 "nbformat": 4,
 "nbformat_minor": 4
}
