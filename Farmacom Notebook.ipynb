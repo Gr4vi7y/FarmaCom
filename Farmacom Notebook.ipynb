{
 "cells": [
  {
   "attachments": {},
   "cell_type": "markdown",
   "metadata": {},
   "source": [
    "<img src=\"./images/descarga.png\">\n",
    "\n",
    "### Trabajo para el modulo \"Programacion en Python\"\n",
    "\n",
    "En primer lugar crearemos un objeto llamado Medicamento que almacenara la informacion relevante para nuestro trabajo. En nuestro caso sera el nombre, laboratorio, principios activos, problemas de comercializacion, si necesita prescripcion medica, si afecta a la conduccion, si tiene problemas de suministro y el numero de unidades disponibles en nuestra farmacia. "
   ]
  },
  {
   "cell_type": "code",
   "execution_count": 128,
   "metadata": {},
   "outputs": [],
   "source": [
    "class Medicamento(object):\n",
    "    \"\"\" Clase Medicamento. Representa un Medicamento.\n",
    "    Atributos\n",
    "    ---------\n",
    "    nombre = string\n",
    "    laboratorio = string\n",
    "    principios = string\n",
    "    comercializado = boolean\n",
    "    observaciones = boolean\n",
    "    conduccion = boolean\n",
    "    suministro = int\n",
    "    \n",
    "    \"\"\"\n",
    "    def __init__(self, nombre_med, lab_med, p_act, comer, obs, afect_cond, prob_sum, exist):\n",
    "        self.nombre = nombre_med\n",
    "        self.laboratorio = lab_med \n",
    "        self.principios = p_act \n",
    "        self.comercializado = comer \n",
    "        self.observaciones = obs\n",
    "        self.conduccion = afect_cond\n",
    "        self.suministro = prob_sum\n",
    "        self.existencias = exist\n",
    "    def datos(self):\n",
    "        return  print(\"Nombre: \" + self.nombre,\"\\nLaboratorio: \" +  self.laboratorio, \n",
    "                      \"\\nPrincipios Activos: \" + self.principios, \"\\nComercializado: \" + str(self.comercializado),\n",
    "                     \"\\nPrescripcion: \" + str(self.observaciones), \"\\nAfecta a conduccion: \" + str(self.conduccion),\n",
    "                     \"\\nProblemas de suministro: \" + str(self.suministro), \"\\nStock: \" + str(self.existencias))\n",
    " "
   ]
  },
  {
   "cell_type": "markdown",
   "metadata": {},
   "source": [
    "Creamos un objeto determinado, en este caso de la famosa aspirina. Esto nos permitira comprobar el buen funcionamiento de\n",
    "nuestro objeto."
   ]
  },
  {
   "cell_type": "code",
   "execution_count": 132,
   "metadata": {},
   "outputs": [],
   "source": [
    "med1 = Medicamento(\"Aspirina\", \"Bayer\", \"Ácido Acetilsalicílico\", True, False, False, False, 0)"
   ]
  },
  {
   "cell_type": "markdown",
   "metadata": {},
   "source": [
    "Comprobamos que podemos acceder a un dato determinado de nuestro objeto:"
   ]
  },
  {
   "cell_type": "code",
   "execution_count": 133,
   "metadata": {},
   "outputs": [
    {
     "name": "stdout",
     "output_type": "stream",
     "text": [
      "True\n"
     ]
    }
   ],
   "source": [
    "print(med1.comercializado)"
   ]
  },
  {
   "cell_type": "markdown",
   "metadata": {},
   "source": [
    "En el objeto hemos añadido un metodo para poder consultar toda la informacion sobre un determinado medicamento. Vamos a comprobar que funciona con nuestro ejemplo."
   ]
  },
  {
   "cell_type": "code",
   "execution_count": 134,
   "metadata": {},
   "outputs": [
    {
     "name": "stdout",
     "output_type": "stream",
     "text": [
      "Nombre: Aspirina \n",
      "Laboratorio: Bayer \n",
      "Principios Activos: Ácido Acetilsalicílico \n",
      "Comercializado: True \n",
      "Prescripcion: False \n",
      "Afecta a conduccion: False \n",
      "Problemas de suministro: False \n",
      "Stock: 0\n"
     ]
    }
   ],
   "source": [
    "med1.datos()"
   ]
  },
  {
   "cell_type": "code",
   "execution_count": null,
   "metadata": {},
   "outputs": [],
   "source": []
  },
  {
   "cell_type": "code",
   "execution_count": null,
   "metadata": {},
   "outputs": [],
   "source": []
  }
 ],
 "metadata": {
  "kernelspec": {
   "display_name": "Python 3",
   "language": "python",
   "name": "python3"
  },
  "language_info": {
   "codemirror_mode": {
    "name": "ipython",
    "version": 3
   },
   "file_extension": ".py",
   "mimetype": "text/x-python",
   "name": "python",
   "nbconvert_exporter": "python",
   "pygments_lexer": "ipython3",
   "version": "3.7.6"
  }
 },
 "nbformat": 4,
 "nbformat_minor": 4
}
